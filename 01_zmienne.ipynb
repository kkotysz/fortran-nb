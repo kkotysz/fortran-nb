{
 "cells": [
  {
   "cell_type": "markdown",
   "metadata": {},
   "source": [
    "# FORTRAN - typy zmiennych\n",
    "https://www.tutorialspoint.com/fortran/fortran_data_types.htm"
   ]
  },
  {
   "cell_type": "code",
   "execution_count": 4,
   "metadata": {},
   "outputs": [
    {
     "name": "stdout",
     "output_type": "stream",
     "text": [
      "       68312\n"
     ]
    }
   ],
   "source": [
    "program demo\n",
    "\n",
    "integer          :: i=68312\n",
    "integer (kind=8) :: j=2147483648_8\n",
    "real             :: liczba=8e-9\n",
    "complex          :: liczba_zesp\n",
    "character(5)     :: a\n",
    "logical          :: warunek\n",
    "\n",
    "write(*,*)i\n",
    "\n",
    "end program demo"
   ]
  },
  {
   "cell_type": "markdown",
   "metadata": {},
   "source": [
    "\n",
    "`kind()`      : ile bajtów będzie użytych do zapisania liczby \\\n",
    "`huge()`      : największa możliwa liczba (tylko dla `integer` i `real`) \\\n",
    "`precision()` : liczba miejsc po przecinku jaka jest dokładna (tylko dla `real` i `complex`) \\\n",
    "`range()`     : zwraca liczbę <b>R</b>, która określa zakres $[-10^R, 10^R]$\n",
    "\n",
    "https://www.tutorialspoint.com/fortran/fortran_numbers.htm"
   ]
  },
  {
   "cell_type": "code",
   "execution_count": 3,
   "metadata": {},
   "outputs": [
    {
     "name": "stdout",
     "output_type": "stream",
     "text": [
      "       68312           4  2147483647           9\n"
     ]
    }
   ],
   "source": [
    "program demo\n",
    "\n",
    "integer          :: i=68312\n",
    "integer (kind=8) :: j=2147483648_8\n",
    "real             :: liczba=8e-9\n",
    "real    (kind=8) :: druga_liczba=123.456\n",
    "\n",
    "write(*,*)i, kind(i), huge(i), range(i)\n",
    "\n",
    "end program demo"
   ]
  },
  {
   "cell_type": "markdown",
   "metadata": {},
   "source": [
    "https://www.tutorialspoint.com/fortran/fortran_numeric_precision.htm\n",
    "\n",
    "Do automatycznego wyznaczenia parametru `kind` służą dwie funkcje: \\\n",
    "Dla liczb całkowitych: `selected_int_kind(R)`, gdzie `R` - potęga jak w  `range`\\\n",
    "Dla liczb rzeczywistych: `selected_real_kind(P,R)`, gdzie `P` - minimalna liczba cyfr precyzji, `R` - potęga jak w  `range`"
   ]
  },
  {
   "cell_type": "code",
   "execution_count": 25,
   "metadata": {},
   "outputs": [
    {
     "name": "stdout",
     "output_type": "stream",
     "text": [
      "           2147483648           8  9223372036854775807          18\n"
     ]
    }
   ],
   "source": [
    "program whatkind\n",
    "\n",
    "! integer, parameter :: ki = selected_int_kind(38)\n",
    "integer (kind=8) :: i, j\n",
    "! integer, parameter :: kr = selected_real_kind(30,80)\n",
    "! real  :: r\n",
    "\n",
    "i = 2147483647+1\n",
    "! j = 2147483648\n",
    "j = 2147483648_8\n",
    "\n",
    "! r = 11.**37\n",
    "\n",
    "write(*,*)i, kind(i), huge(i), range(i)\n",
    "! write(*,*) r, kind(r), huge(r), range(r)\n",
    "\n",
    "end program whatkind"
   ]
  },
  {
   "cell_type": "code",
   "execution_count": null,
   "metadata": {},
   "outputs": [],
   "source": []
  }
 ],
 "metadata": {
  "kernelspec": {
   "display_name": "Fortran",
   "language": "Fortran",
   "name": "fortran_spec"
  },
  "language_info": {
   "file_extension": "f90",
   "mimetype": "text/plain",
   "name": "fortran"
  }
 },
 "nbformat": 4,
 "nbformat_minor": 4
}
