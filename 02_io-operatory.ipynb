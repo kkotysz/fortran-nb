{
 "cells": [
  {
   "cell_type": "markdown",
   "metadata": {},
   "source": [
    "# FORTRAN - wejście/wyjście\n",
    "https://www.tutorialspoint.com/fortran/fortran_basic_input_output.htm"
   ]
  },
  {
   "cell_type": "markdown",
   "metadata": {},
   "source": [
    "Wypisywanie na ekran wykonujemy za pomocą uproszczonej instrukcji `write(*,*)` lub `print`"
   ]
  },
  {
   "cell_type": "markdown",
   "metadata": {},
   "source": [
    "Wypisywanie można odpowiednio sformatować - w ogólności instrukcja `write` przyjmuje dwa argumenty `write(unit, fmt)`, gdzie:\n",
    "* `unit` - odnosi się do numeru urządzenia, na które chcemy coś wypisać (np. drukarka, plik, okno terminala). Niektóre numery są zarezerwowane:\n",
    " * 5: INPUT, czyli domyślnie dla instrukcji `read(*,*)`\n",
    " * 6: OUTPUT, czyli domyślnie dla instrukcji `write(*,*)`\n",
    "* `fmt` - określa format wypisania, gdzie `*` jest wolnym formatem. `fmt` obejmuje:\\\n",
    "(`r` w każdym przypadku oznacza liczbę powtórzeń formatu wyrazy w nawiasach kwadratowych `[]` są opcjonalne)\n",
    " * `[n]a[w]` - zmienne znakowe (character), np. `5a`\n",
    " * `[n]fw.d` - zmienne zmiennoprzecinkowe (real), `w`: liczba znaków, `d`: liczba miejsc po przecinku, np. `f8.3`\n",
    " * `[n]esw.d` - notacja naukowa (real), oznaczenia jak wyżej\n",
    " * `[n]ew.d` - notacja wykładnicza (real), oznaczenia jak wyżej\n",
    " * `[n]iw[.m]` - zmienne całkowite (integer), `w`: liczba znaków, `m`: minimalna liczba cyfr, np. `5i`\n",
    " * `nx` - spacja, `n`: liczba spacji, np. `2x`\n",
    " * `/` - nowa linia"
   ]
  },
  {
   "cell_type": "code",
   "execution_count": 186,
   "metadata": {},
   "outputs": [
    {
     "name": "stdout",
     "output_type": "stream",
     "text": [
      " FORTRAN             90\n",
      " FORTRAN             90\n",
      "\n",
      "FORTRAN 90 --- Liczba pi wynosi: 0.314E+01\n",
      "FORTRAN 90 --- Liczba pi wynosi: 0.314E+01\n"
     ]
    }
   ],
   "source": [
    "program demo\n",
    "implicit none \n",
    "\n",
    "character(40) :: fmt\n",
    "character(10) :: jezyk=\"FORTRAN\"\n",
    "integer       :: i=90\n",
    "real          :: pi=3.14195\n",
    "\n",
    "write(*,*)jezyk,i\n",
    "print*, jezyk, i\n",
    "print*\n",
    "\n",
    "fmt=\"(a7, 1x, i2, 1x, a21, e10.3)\"\n",
    "write(*, fmt)jezyk, i, \"--- Liczba pi wynosi:\", pi\n",
    "print fmt, jezyk, i, \"--- Liczba pi wynosi:\", pi\n",
    "\n",
    "end program demo"
   ]
  },
  {
   "cell_type": "markdown",
   "metadata": {},
   "source": [
    "# FORTRAN - Operatory\n",
    "https://www.tutorialspoint.com/fortran/fortran_operators.htm"
   ]
  },
  {
   "cell_type": "markdown",
   "metadata": {},
   "source": [
    "| operatory matematyczne |  znaczenie  | operatory relacji | znaczenie | operatory logiczne | znaczenie | \n",
    "|:----------------------:|:------------|:-----------------:|:----------|:------------------:|:----------|\n",
    "| `+` | dodawanie   | `==` lub `.eq.` | sprawdzenie równości | `.and.` | zwraca `.true.`. gdy obie wartości są `.true.` |\n",
    "| `-` | odejmowanie | `/=` lub `.ne.` | sprawdzenie nierówności | `.or.` | zwraca `.true.`, gdy przynajmniej jedna z wartości jest `.true.` |\n",
    "| `*` | mnożenie    | `>`  lub `.gt.` | sprawdzenie większości | `.not.` | zwraca przeciwną wartość logiczną |\n",
    "| `/` | dzielenie   | `<`  lub `.lt.` | sprawdzenie mniejszości | `.eqv.` | porównanie wartości (zwaraca `.true.` jeśli te same wartości logiczne) |\n",
    "|`**` | potęgowanie | `>=` lub `.ge.` | sprawdzenie czy większe lub równe |  `.neqw.` | porównanie wartości (zwaraca `.true.` jeśli przeciwne wartości logiczne |\n",
    "|   |             | `<=` lub `.le.` | sprawdzenie czy mniejsze lub równe |\n"
   ]
  },
  {
   "cell_type": "code",
   "execution_count": 219,
   "metadata": {},
   "outputs": [
    {
     "name": "stdout",
     "output_type": "stream",
     "text": [
      " SUMA:    8.50000000     +             (1.50000000,3.59999990) =             (10.0000000,3.59999990)\n",
      " PORÓWNANIE:  T T\n",
      " WIĘKSZE:  F F\n",
      " LUB: T\n",
      " ZAPRZECZENIE:  F\n"
     ]
    }
   ],
   "source": [
    "program operators\n",
    "\n",
    "integer          :: i=68312\n",
    "integer (kind=8) :: j=2147483648_8\n",
    "real             :: liczba=8.5\n",
    "complex          :: liczba_zesp = (1.5,3.6)\n",
    "character(5)     :: napis = \"FOR\", wyraz=\"TRAN\"\n",
    "logical          :: prawda = .true., falsz = .false.\n",
    "\n",
    "print *, \"SUMA: \", liczba,\"+\",liczba_zesp,\"=\",liczba_zesp+liczba\n",
    "print *, \"PORÓWNANIE: \", napis/=wyraz, napis .ne. wyraz\n",
    "print *, \"WIĘKSZE: \", i > j, i .gt. j\n",
    "print *, \"LUB:\", prawda .or. falsz\n",
    "print *, \"ZAPRZECZENIE: \", .not. prawda\n",
    "end program operators"
   ]
  },
  {
   "cell_type": "code",
   "execution_count": null,
   "metadata": {},
   "outputs": [],
   "source": []
  }
 ],
 "metadata": {
  "kernelspec": {
   "display_name": "Fortran",
   "language": "Fortran",
   "name": "fortran_spec"
  },
  "language_info": {
   "file_extension": "f90",
   "mimetype": "text/plain",
   "name": "fortran"
  }
 },
 "nbformat": 4,
 "nbformat_minor": 4
}
