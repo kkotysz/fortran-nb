{
 "cells": [
  {
   "cell_type": "markdown",
   "metadata": {},
   "source": [
    "# FORTRAN - instrukcje warunkowe\n",
    "https://www.tutorialspoint.com/fortran/fortran_decisions.htm"
   ]
  },
  {
   "cell_type": "markdown",
   "metadata": {},
   "source": [
    "Instrukcja warunkowa w FORTRANIE ma następującą składnię:\n",
    "\n",
    "```\n",
    "if (warunek) then\n",
    "    instrukcje lub blok instrukcji jeśli prawda\n",
    "else\n",
    "    instrukcje blok instrukcji jeśli fałsz\n",
    "end if\n",
    "\n",
    "```\n",
    "Przy czym blok z `else` jest opcjonalny"
   ]
  },
  {
   "cell_type": "code",
   "execution_count": 23,
   "metadata": {},
   "outputs": [
    {
     "name": "stdout",
     "output_type": "stream",
     "text": [
      "Porównanie liczb a:  7 oraz b: 19\n",
      " warunek a>b ma wartość:  F\n",
      " b jest większe od a\n"
     ]
    }
   ],
   "source": [
    "program warunki\n",
    "implicit none\n",
    "\n",
    "integer :: a = 7, b = 19\n",
    "\n",
    "print \"(a,i2,a,i2)\", \"Porównanie liczb a: \", a, \" oraz b: \", b\n",
    "print *, \"warunek a>b ma wartość: \", a>b\n",
    "if (a > b) then\n",
    "    print *, \"a jest większe od b\"\n",
    "else\n",
    "    print *, \"b jest większe od a\"\n",
    "end if\n",
    "\n",
    "end program warunki"
   ]
  },
  {
   "cell_type": "markdown",
   "metadata": {},
   "source": [
    "Gdy chcemy sprawdzić więcej warunków, to można użyć `else if (warunek) then`"
   ]
  },
  {
   "cell_type": "code",
   "execution_count": 36,
   "metadata": {},
   "outputs": [
    {
     "name": "stdout",
     "output_type": "stream",
     "text": [
      " Ocena: 4.0\n"
     ]
    }
   ],
   "source": [
    "program warunki_elif\n",
    "implicit none\n",
    "\n",
    "integer :: a = 90, b = 80, c = 70, d=60, e=50, wynik=79\n",
    "\n",
    "if (wynik > a) then\n",
    "    print *, \"Ocena: 5.0\"\n",
    "else if (wynik >= b) then\n",
    "    print *, \"Ocena: 4.5\"\n",
    "else if (wynik >= c) then\n",
    "    print *, \"Ocena: 4.0\"\n",
    "else if (wynik >= d) then\n",
    "    print *, \"Ocena: 3.5\"\n",
    "else if (wynik >= e) then\n",
    "    print *, \"Ocena: 3.0\"\n",
    "else\n",
    "    print *, \"Ocena: 2.0\"\n",
    "end if\n",
    "\n",
    "end program warunki_elif"
   ]
  },
  {
   "cell_type": "markdown",
   "metadata": {},
   "source": [
    "# FORTRAN - pętle\n",
    "https://www.tutorialspoint.com/fortran/fortran_loops.htm"
   ]
  },
  {
   "cell_type": "markdown",
   "metadata": {},
   "source": [
    "### Pętla DO\n",
    "\n",
    "Składnia pętlo `DO` jest następująca:\n",
    "\n",
    "```\n",
    "do <VAR>=<START>,<STOP>[,<KROK>]\n",
    "    komenda lub blok komend\n",
    "end do\n",
    "```\n",
    "`<KROK>` domyślnie to __1__ i jest parametrem __opcjonalnym__"
   ]
  },
  {
   "cell_type": "code",
   "execution_count": 11,
   "metadata": {},
   "outputs": [
    {
     "name": "stdout",
     "output_type": "stream",
     "text": [
      "  n    silnia\n",
      " ------------\n",
      "  1         1\n",
      "  2         2\n",
      "  3         6\n",
      "  4        24\n",
      "  5       120\n",
      "  6       720\n",
      " ------------\n"
     ]
    }
   ],
   "source": [
    "program licz_silnia_do\n",
    "\n",
    "integer :: n = 6, silnia = 1, i\n",
    "\n",
    "write(*,\"(a3, a10)\") \"n\", \"silnia\"\n",
    "write(*,\"(a13)\")\"------------\"\n",
    "do i=1,n\n",
    "    silnia = silnia*i\n",
    "    write(*, \"(i3, i10)\")i, silnia\n",
    "end do\n",
    "write(*,\"(a13)\")\"------------\"\n",
    "\n",
    "end program licz_silnia_do"
   ]
  },
  {
   "cell_type": "markdown",
   "metadata": {},
   "source": [
    "### Zagnieżdżanie pętli"
   ]
  },
  {
   "cell_type": "code",
   "execution_count": 1,
   "metadata": {},
   "outputs": [
    {
     "name": "stdout",
     "output_type": "stream",
     "text": [
      "  1  2  3  4  5  6  7  8  9\n",
      "  2  4  6  8 10 12 14 16 18\n",
      "  3  6  9 12 15 18 21 24 27\n",
      "  4  8 12 16 20 24 28 32 36\n",
      "  5 10 15 20 25 30 35 40 45\n",
      "  6 12 18 24 30 36 42 48 54\n",
      "  7 14 21 28 35 42 49 56 63\n",
      "  8 16 24 32 40 48 56 64 72\n",
      "  9 18 27 36 45 54 63 72 81\n"
     ]
    }
   ],
   "source": [
    "program multtable\n",
    "\n",
    "integer :: nrow = 9, ncol = 9, i, j\n",
    "\n",
    "do i=1,nrow\n",
    "    do j=1,ncol\n",
    "        write(*, \"(i3)\", advance=\"no\")j*i     ! argument advance=\"no\" nie przenosi do następnej linii\n",
    "    end do\n",
    "    print*\n",
    "end do\n",
    "\n",
    "end program multtable"
   ]
  },
  {
   "cell_type": "markdown",
   "metadata": {},
   "source": [
    "#### Można zmierzyć czas wykonywania się programu używając poniższej komendy (czas będzie zmierzony 5 razy):"
   ]
  },
  {
   "cell_type": "raw",
   "metadata": {},
   "source": [
    "for i in $(seq 1 5); do time $(./time_loop > /dev/null); done"
   ]
  },
  {
   "cell_type": "markdown",
   "metadata": {},
   "source": [
    "### Pętla WHILE\n",
    "\n",
    "```\n",
    "do while (warunek) \n",
    "   komenda lub blok komend\n",
    "end do\n",
    "```\n",
    "Pętla będzie wykonywana dopóki warunek jest spełniony"
   ]
  },
  {
   "cell_type": "code",
   "execution_count": 13,
   "metadata": {},
   "outputs": [
    {
     "name": "stdout",
     "output_type": "stream",
     "text": [
      "  n    silnia\n",
      " ------------\n",
      "  1         1\n",
      "  2         2\n",
      "  3         6\n",
      "  4        24\n",
      "  5       120\n",
      "  6       720\n",
      " ------------\n"
     ]
    }
   ],
   "source": [
    "program licz_silnia_while\n",
    "\n",
    "integer :: n = 6, silnia = 1, i=1\n",
    "\n",
    "write(*,\"(a3, a10)\") \"n\", \"silnia\"\n",
    "write(*,\"(a13)\")\"------------\"\n",
    "do while (i <= n)\n",
    "    silnia = silnia*i\n",
    "    write(*, \"(i3, i10)\")i, silnia\n",
    "    i = i+1\n",
    "end do\n",
    "write(*,\"(a13)\")\"------------\"\n",
    "\n",
    "end program licz_silnia_while"
   ]
  },
  {
   "cell_type": "markdown",
   "metadata": {},
   "source": [
    "### Instrukcje `cycle`, `stop`, `exit`"
   ]
  },
  {
   "cell_type": "markdown",
   "metadata": {},
   "source": [
    "* `cycle` powoduje przejście do następnego wykonania pętli\n",
    "* `exit` powoduje natychmiastowe wyjście z pętli i wykonanie reszty programu\n",
    "* `stop` powoduje natychmiastowe zakończenie działania programu"
   ]
  },
  {
   "cell_type": "code",
   "execution_count": 12,
   "metadata": {},
   "outputs": [
    {
     "name": "stdout",
     "output_type": "stream",
     "text": [
      "  n    silnia\n",
      " ------------\n",
      "  1         1\n",
      "  2         2\n",
      "  3         6\n"
     ]
    }
   ],
   "source": [
    "program licz_silnia_do_cycle\n",
    "\n",
    "integer :: n = 6, silnia = 1, i\n",
    "\n",
    "write(*,\"(a3, a10)\") \"n\", \"silnia\"\n",
    "write(*,\"(a13)\")\"------------\"\n",
    "do i=1,n\n",
    "    if (i == 4 .or. i == 5) then\n",
    "        cycle\n",
    "        !exit\n",
    "        !stop\n",
    "    end if\n",
    "    silnia = silnia*i\n",
    "    write(*, \"(i3, i10)\")i, silnia\n",
    "end do\n",
    "write(*,\"(a13)\")\"------------\"\n",
    "\n",
    "end program licz_silnia_do_cycle"
   ]
  },
  {
   "cell_type": "code",
   "execution_count": null,
   "metadata": {},
   "outputs": [],
   "source": []
  }
 ],
 "metadata": {
  "kernelspec": {
   "display_name": "Fortran",
   "language": "Fortran",
   "name": "fortran_spec"
  },
  "language_info": {
   "file_extension": "f90",
   "mimetype": "text/plain",
   "name": "fortran"
  }
 },
 "nbformat": 4,
 "nbformat_minor": 4
}
