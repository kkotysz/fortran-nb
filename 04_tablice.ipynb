{
 "cells": [
  {
   "cell_type": "markdown",
   "metadata": {},
   "source": [
    "# FORTRAN - tablice\n",
    "https://www.tutorialspoint.com/fortran/fortran_arrays.htm"
   ]
  },
  {
   "cell_type": "markdown",
   "metadata": {},
   "source": [
    "W FORTRAN-ie tablica jest zbiorem elementów o tym samym typie (`KIND`). Do elementów w tablicy odwołujemy się poprzez indeksy, gdzie pierwszy element ma indeks 1. Deklaracja tablicy z góry zakłada jej rozmiar, który podaje się jako argument atrybutu `dimension`. Poniżej przykładowa definicja zmiennej tablicowej."
   ]
  },
  {
   "cell_type": "code",
   "execution_count": 18,
   "metadata": {},
   "outputs": [
    {
     "name": "stdout",
     "output_type": "stream",
     "text": [
      "           1           8          27          64         125         216         343         512         729\n",
      " Piąty element tablicy to:          125\n",
      "           1           2           3           4           5           6           7           8           9\n"
     ]
    }
   ],
   "source": [
    "program tablica\n",
    "implicit none\n",
    "\n",
    "integer :: i\n",
    "integer, dimension(9) :: mojatablica, drugatablica\n",
    "\n",
    "! wypełnimy tablicę mojatablica elementami w pętli\n",
    "do i=1,9\n",
    "    mojatablica(i)=i**3\n",
    "end do\n",
    "print*,mojatablica\n",
    "print *,\"Piąty element tablicy to: \", mojatablica(5)\n",
    "\n",
    "! w tym miejscu wypełnimy tablicę drugatablica używając konstruktora tablic (tylko dla 1 wymiarowych)\n",
    "drugatablica = (/1,2,3,4,5,6,7,8,9/)\n",
    "print*,drugatablica\n",
    "\n",
    "end program tablica"
   ]
  },
  {
   "cell_type": "markdown",
   "metadata": {},
   "source": [
    "Jak widać, odwołanie do elementu w tablicy odbywa się poprzez podanie indeksu w nawiasie zwykłym. \n",
    "\n",
    "Tablice mogą być jedno, dwu lub wielo-wymiarowe. Mogą przechowywać różne typy zmiennych (`integer`, `real`, `complex`, `character`, `logical`)"
   ]
  },
  {
   "cell_type": "code",
   "execution_count": 37,
   "metadata": {},
   "outputs": [
    {
     "name": "stdout",
     "output_type": "stream",
     "text": [
      "          63\n",
      "           2           3           4           3           4           5           4           5           6\n",
      "           9\n"
     ]
    }
   ],
   "source": [
    "program tablica2d\n",
    "implicit none\n",
    "\n",
    "integer, dimension(9,9) :: tabliczkamnozenia\n",
    "integer :: dwawymiary(3,3), i, j  ! inny sposób definicji tablicy\n",
    "\n",
    "do i=1,9\n",
    "    do j=1,9\n",
    "        tabliczkamnozenia(i,j)=j*i\n",
    "    end do\n",
    "end do\n",
    "\n",
    "print*,tabliczkamnozenia(7,9)\n",
    "\n",
    "do i =1,3\n",
    "    do j=1,3\n",
    "        dwawymiary(i,j)=i+j\n",
    "    end do\n",
    "end do\n",
    "\n",
    "print*,dwawymiary\n",
    "\n",
    "print*,size(dwawymiary)\n",
    "\n",
    "end program tablica2d"
   ]
  },
  {
   "cell_type": "markdown",
   "metadata": {},
   "source": [
    "## Odwoływanie się do części tablicy"
   ]
  },
  {
   "cell_type": "markdown",
   "metadata": {},
   "source": [
    "Możliwe jest również odwołanie się do wybranego fragmentu tablicy. Składnia jest następująca"
   ]
  },
  {
   "cell_type": "markdown",
   "metadata": {},
   "source": [
    "```\n",
    "tablica([start]:[koniec][:krok])\n",
    "```\n",
    "gdzie `start` oznacza element tablicy od którego chcemy zacząć, `koniec` - na którym zakończyć, a `krok` - co który element ma być wzięty pod uwagę (domyślnie 1). Dla przykładu:"
   ]
  },
  {
   "cell_type": "code",
   "execution_count": 32,
   "metadata": {},
   "outputs": [
    {
     "name": "stdout",
     "output_type": "stream",
     "text": [
      " Cała tablica to:\n",
      "           1           2           3           4           5           6           7\n",
      " Elementy od 3 do 5:\n",
      "           3           4           5\n"
     ]
    }
   ],
   "source": [
    "program fragmenttablicy\n",
    "implicit none\n",
    "\n",
    "integer, dimension(7) :: mojatablica\n",
    "\n",
    "mojatablica = (/1,2,3,4,5,6,7/)\n",
    "print*,\"Cała tablica to:\"\n",
    "print*,mojatablica\n",
    "\n",
    "print*,\"Elementy od 3 do 5:\"\n",
    "print*,mojatablica(3:5)\n",
    "\n",
    "end program fragmenttablicy"
   ]
  },
  {
   "cell_type": "markdown",
   "metadata": {},
   "source": [
    "Pominięcie `start` spowoduje odwołanie od pierwszego elementu do `koniec`, a pominięcie `koniec` - odwołanie od `start` do ostatniego elementu"
   ]
  },
  {
   "cell_type": "markdown",
   "metadata": {},
   "source": [
    "### Przydatne funkcje:"
   ]
  },
  {
   "cell_type": "code",
   "execution_count": 45,
   "metadata": {},
   "outputs": [
    {
     "name": "stdout",
     "output_type": "stream",
     "text": [
      "           1           8          27          64         125         216         343         512         729\n",
      " ----------------\n",
      " size:            9\n",
      " all:  F\n",
      " any:  T\n",
      " count :           8\n",
      " maxval :         729\n",
      " minval :           1\n",
      " product :           8\n",
      " sum :        1241\n"
     ]
    }
   ],
   "source": [
    "program tablica\n",
    "implicit none\n",
    "\n",
    "integer :: i\n",
    "integer, dimension(9) :: mojatablica\n",
    "\n",
    "! wypełnimy tablicę mojatablica elementami w pętli\n",
    "do i=1,9\n",
    "    mojatablica(i)=i**3\n",
    "end do\n",
    "print*,mojatablica\n",
    "print*,\"----------------\"\n",
    "print*,\"size: \", size(mojatablica)            ! ile jest elementów w tablicy\n",
    "print*,\"all: \", all(mojatablica>1)            ! sprawdź czy wszystkie elementy spełniają warunek\n",
    "print*,\"any: \", any(mojatablica>1)            ! sprawdź czy jakikolwiek element spełnia warunek\n",
    "print*,\"count :\", count(mojatablica>1)        ! policz ile jest elementów spełniających warunek\n",
    "print*,\"maxval :\", maxval(mojatablica)        ! zwróć największą wartość\n",
    "print*,\"minval :\", minval(mojatablica)        ! zwróć najmiejszą wartość\n",
    "print*,\"product :\", product(mojatablica(:2))  ! iloczyn elementów\n",
    "print*,\"sum :\", sum(mojatablica(8:))          ! suma elementów\n",
    "\n",
    "end program tablica"
   ]
  },
  {
   "cell_type": "markdown",
   "metadata": {},
   "source": [
    "## Polecenie `where`"
   ]
  },
  {
   "cell_type": "markdown",
   "metadata": {},
   "source": [
    "`where` pozwala na wykonanie danego polecenia w miejscu tablicy, gdy warunek jest prawdziwy:"
   ]
  },
  {
   "cell_type": "code",
   "execution_count": 84,
   "metadata": {},
   "outputs": [
    {
     "name": "stdout",
     "output_type": "stream",
     "text": [
      "           0          -1          -2          -3          -4           0           1           2           3           4\n"
     ]
    }
   ],
   "source": [
    "program gdzie\n",
    "implicit none\n",
    "\n",
    "integer :: tablica(10)\n",
    "\n",
    "tablica = (/0,1,2,3,4,5,6,7,8,9/)\n",
    "\n",
    "where (tablica<5)\n",
    "    tablica = tablica*(-1)\n",
    "elsewhere\n",
    "    tablica = tablica-5\n",
    "end where\n",
    "\n",
    "print*,tablica\n",
    "\n",
    "end program gdzie"
   ]
  },
  {
   "cell_type": "markdown",
   "metadata": {},
   "source": [
    "## Tablice alokowalne\n",
    "https://www.tutorialspoint.com/fortran/fortran_dynamic_arrays.htm"
   ]
  },
  {
   "cell_type": "markdown",
   "metadata": {},
   "source": [
    "Tablice alokowalne, to takie gdzie przy deklaracji nie wiemy jaki będą miały rozmiar i musimy zarezerwować (alokować) dla nich miejsce w pamięci komputera dopiero gdy poznamy ich rozmiar. Ich deklracja jest następująca:"
   ]
  },
  {
   "cell_type": "code",
   "execution_count": 79,
   "metadata": {},
   "outputs": [
    {
     "name": "stdout",
     "output_type": "stream",
     "text": [
      " Rozmiar przed alokowaniem:            1\n",
      " Rozamiar po alokowaniu:           19\n",
      "           1           2           3           4           5           6           7           8           9          10          11          12          13          14          15          16          17          18          19\n"
     ]
    }
   ],
   "source": [
    "program alokowalne\n",
    "implicit none\n",
    "\n",
    "integer, dimension(:), allocatable :: dynamiczna\n",
    "integer :: rozmiar, i\n",
    "\n",
    "rozmiar = 19\n",
    "\n",
    "print*,\"Rozmiar przed alokowaniem: \", size(dynamiczna)\n",
    "allocate (dynamiczna(rozmiar))\n",
    "print*,\"Rozamiar po alokowaniu: \",size(dynamiczna)\n",
    "\n",
    "do i=1,rozmiar\n",
    "    dynamiczna(i)=i\n",
    "end do\n",
    "print*,dynamiczna\n",
    "deallocate(dynamiczna)\n",
    "\n",
    "end program alokowalne"
   ]
  }
 ],
 "metadata": {
  "kernelspec": {
   "display_name": "Fortran",
   "language": "Fortran",
   "name": "fortran_spec"
  },
  "language_info": {
   "file_extension": "f90",
   "mimetype": "text/plain",
   "name": "fortran"
  }
 },
 "nbformat": 4,
 "nbformat_minor": 4
}
