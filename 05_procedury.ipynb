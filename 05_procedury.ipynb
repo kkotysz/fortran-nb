{
 "cells": [
  {
   "cell_type": "markdown",
   "metadata": {},
   "source": [
    "# FORTRAN - procedury\n",
    "https://www.tutorialspoint.com/fortran/fortran_procedures.htm"
   ]
  },
  {
   "cell_type": "markdown",
   "metadata": {},
   "source": [
    "W FORTRAN-ie aby wykonać dany kawałek kodu w dowolnym miejscu możemy utworzyć funkcję lub subrutynę. Różnica między dwoma polega na tym, że funkcja zwraca nam wartośc, a subrutyna modyfikuje przekazywane do niej arguemnty. Nazwa funkcji lub subrutyny jest zmienną, którą należy zadeklarować."
   ]
  },
  {
   "cell_type": "markdown",
   "metadata": {},
   "source": [
    "### Funkcje"
   ]
  },
  {
   "cell_type": "code",
   "execution_count": 56,
   "metadata": {},
   "outputs": [
    {
     "name": "stdout",
     "output_type": "stream",
     "text": [
      " Pole kola to o promeinu r=    5.00000000     to:    78.5397491    \n",
      "   3.14159012    \n",
      "   12.5663605    \n",
      "   28.2743111    \n",
      "   50.2654419    \n"
     ]
    }
   ],
   "source": [
    "program funkcje\n",
    "implicit none\n",
    "real    :: pole_kola, r=5.\n",
    "\n",
    "print*,\"Pole kola to o promeinu r= \", r, \"to: \", pole_kola(r)\n",
    "! funkcję można wywowływać wielokrotnie\n",
    "print*,pole_kola(1.)\n",
    "print*,pole_kola(2.)\n",
    "print*,pole_kola(3.)\n",
    "print*,pole_kola(4.)\n",
    "\n",
    "end program funkcje\n",
    "\n",
    "function pole_kola(promien)\n",
    "\n",
    "real    :: pi=3.14159, r, pole_kola\n",
    "integer ::  i\n",
    "\n",
    "pole_kola = pi*promien**2\n",
    "\n",
    "end function pole_kola"
   ]
  },
  {
   "cell_type": "markdown",
   "metadata": {},
   "source": [
    "Czasem chcemy wyjść z funkcji zanim wykona się jej całość, możemy się wtedy posłużyć komendą `return`. Np. z jakiegoś powodu chcemy, żeby maksymalną wartość promienia jaki można było podać, to 25. Jeśli podania zostanie większa wartośc, to funkcja zwróci `-1`. Poniższy kod można oczywiście zmodyfikować tak, aby nie trzeba było podawać `return` - wystarczy dodać `else` do warunku. "
   ]
  },
  {
   "cell_type": "code",
   "execution_count": 70,
   "metadata": {},
   "outputs": [
    {
     "name": "stdout",
     "output_type": "stream",
     "text": [
      " Pole kola to o promeinu r=    5.00000000     to:    78.5397491    \n",
      "   1809.55591    \n",
      "   1963.49377    \n",
      "  -1.00000000    \n"
     ]
    }
   ],
   "source": [
    "program funkcje\n",
    "implicit none\n",
    "real    :: pole_kola, r=5.0\n",
    "\n",
    "print*,\"Pole kola to o promeinu r= \", r, \"to: \", pole_kola(r)\n",
    "print*,pole_kola(24.)\n",
    "print*,pole_kola(25.)\n",
    "print*,pole_kola(26.)\n",
    "\n",
    "end program funkcje\n",
    "\n",
    "function pole_kola(promien)\n",
    "\n",
    "real    :: pi=3.14159, r, pole_kola\n",
    "integer ::  i\n",
    "\n",
    "if (promien>25) then\n",
    "    pole_kola=-1\n",
    "    return ! gdy wykomentuje się tę linię, to pole koła będzie się liczyć dla promienia>25, \n",
    "           ! ponieważ wykona się komenda po warunku\n",
    "end if\n",
    "pole_kola = pi*promien**2\n",
    "\n",
    "end function pole_kola"
   ]
  },
  {
   "cell_type": "code",
   "execution_count": 96,
   "metadata": {},
   "outputs": [
    {
     "name": "stdout",
     "output_type": "stream",
     "text": [
      " x1=   -3.00000000, x2=   -2.00\n"
     ]
    }
   ],
   "source": [
    "program fkwadratowa\n",
    "implicit none\n",
    "\n",
    "character(30) :: kwadraty\n",
    "\n",
    "print *,kwadraty(1.,5.,6.)\n",
    "\n",
    "end program fkwadratowa\n",
    "\n",
    "function kwadraty(a,b,c)\n",
    "\n",
    "real          :: a,b,c,delta,x1,x2\n",
    "character(30) :: t1,t2,kwadraty\n",
    "\n",
    "delta = b**2 - 4*a*c\n",
    "if (a /= 0) then\n",
    "    if (delta > 0) then\n",
    "        x1 = (-b - sqrt(delta))/(2*a)\n",
    "        x2 = (-b + sqrt(delta))/(2*a)\n",
    "        write(t1,*)x1\n",
    "        write(t2,*)x2\n",
    "        kwadraty = \"x1= \"//trim(t1)//\", x2= \"//trim(t2)\n",
    "    else if (delta == 0) then\n",
    "        x1 = (-b)/(2*a)\n",
    "        write(t1,*)x1\n",
    "        kwadraty = \"x = \"//trim(t1)\n",
    "    else\n",
    "        kwadraty = \"delta < 0\"\n",
    "    end if\n",
    "else\n",
    "    if (b == 0) then\n",
    "        write(t1,*)c\n",
    "        kwadraty = \"funkcja stala, y =\"//trim(t1)\n",
    "    else\n",
    "        x1 = -c/b\n",
    "        write(t1,*)x1\n",
    "        kwadraty = \"funkcja liniowa, x= \"//trim(t1)\n",
    "    end if\n",
    "end if\n",
    "\n",
    "end function kwadraty"
   ]
  },
  {
   "cell_type": "markdown",
   "metadata": {},
   "source": [
    "### Subrutyny"
   ]
  },
  {
   "cell_type": "markdown",
   "metadata": {},
   "source": [
    "Mogą posiadać 3 rodzaje argumentów:\n",
    " - in -> argument wejściowy --`intent(in)`-- (wartość nie zmienia się)\n",
    " - out -> argument wyjściowy --`intent(out)`-- (używany jako wartość wyjściowa, jego wartość jest nadpisywana)\n",
    " - inout -> argument wejściowo/wyjściowy --`intent(inout)`--"
   ]
  },
  {
   "cell_type": "code",
   "execution_count": 1,
   "metadata": {},
   "outputs": [
    {
     "name": "stdout",
     "output_type": "stream",
     "text": [
      " Before calling swap\n",
      " a =    2.00000000    \n",
      " b =    3.00000000    \n",
      " After calling swap\n",
      " a =    3.00000000    \n",
      " b =    2.00000000    \n"
     ]
    }
   ],
   "source": [
    "! Przykład bez specyfikacji rodzaju argumentu\n",
    "program calling_func\n",
    "implicit none\n",
    "\n",
    "   real :: a, b\n",
    "   a = 2.0\n",
    "   b = 3.0\n",
    "   \n",
    "   Print *, \"Before calling swap\"\n",
    "   Print *, \"a = \", a\n",
    "   Print *, \"b = \", b\n",
    "   \n",
    "   call swap(a, b)\n",
    "   \n",
    "   Print *, \"After calling swap\"\n",
    "   Print *, \"a = \", a\n",
    "   Print *, \"b = \", b\n",
    "   \n",
    "end program calling_func\n",
    "\n",
    "\n",
    "subroutine swap(x, y) \n",
    "implicit none\n",
    "\n",
    "   real :: x, y, temp   \n",
    "   \n",
    "   temp = x  \n",
    "   x = y \n",
    "   y = temp  \n",
    "   \n",
    "end subroutine swap"
   ]
  },
  {
   "cell_type": "code",
   "execution_count": 3,
   "metadata": {},
   "outputs": [
    {
     "name": "stdout",
     "output_type": "stream",
     "text": [
      " The value of the discriminant is\n",
      "   17.0000000    \n"
     ]
    }
   ],
   "source": [
    "! Ze specyfikacją wejścia/wyjścia\n",
    "program calling_func\n",
    "implicit none\n",
    "\n",
    "   real :: x, y, z, disc\n",
    "   \n",
    "   x = 1.0\n",
    "   y = 5.0\n",
    "   z = 2.0\n",
    "   \n",
    "   call intent_example(x, y, z, disc)\n",
    "   \n",
    "   Print *, \"The value of the discriminant is\"\n",
    "   Print *, disc\n",
    "   \n",
    "end program calling_func\n",
    "\n",
    "\n",
    "subroutine intent_example (a, b, c, d)     \n",
    "implicit none     \n",
    "\n",
    "   ! dummy arguments      \n",
    "   real, intent (in) :: a     \n",
    "   real, intent (in) :: b      \n",
    "   real, intent (in) :: c    \n",
    "   real, intent (out) :: d   \n",
    "   \n",
    "   d = b * b - 4.0 * a * c \n",
    "   \n",
    "end subroutine intent_example"
   ]
  }
 ],
 "metadata": {
  "kernelspec": {
   "display_name": "Fortran",
   "language": "Fortran",
   "name": "fortran_spec"
  },
  "language_info": {
   "file_extension": "f90",
   "mimetype": "text/plain",
   "name": "fortran"
  }
 },
 "nbformat": 4,
 "nbformat_minor": 4
}
