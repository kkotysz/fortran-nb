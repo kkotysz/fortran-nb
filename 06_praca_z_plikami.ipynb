{
 "cells": [
  {
   "cell_type": "markdown",
   "metadata": {},
   "source": [
    "# FORTRAN - praca z plikami\n",
    "https://www.tutorialspoint.com/fortran/fortran_file_input_output.htm"
   ]
  },
  {
   "cell_type": "markdown",
   "metadata": {},
   "source": [
    "W FORTRAN-ie możemy wczytywać dane z plików oraz zapisywać wynik działania programu do pliku."
   ]
  },
  {
   "cell_type": "markdown",
   "metadata": {},
   "source": [
    "### Otwieranie i zapisywanie plików"
   ]
  },
  {
   "cell_type": "markdown",
   "metadata": {},
   "source": [
    "Do otwierania plików służy funkcja `open (unit = numer, file = \"nazwa_pliku\")`, gdzie `unit` określa wskazanie do pliku, przy czym każdy otwarty plik musi mieć inny numer. Po skończonym działaniu na pliku, należy go zamknąć funkcją `close(numer)`. \n",
    "\n",
    "Funkcja `open` posiada inne argumenty, które można jej przekazać. Jednym z ważniejszych jest `STATUS`, którym można określić czy jest to nowy plik (do zapisywania), czy już wcześniej istniejący."
   ]
  },
  {
   "cell_type": "code",
   "execution_count": 6,
   "metadata": {},
   "outputs": [
    {
     "name": "stdout",
     "output_type": "stream",
     "text": [
      "  0.100000001       5.54589933E-05\n",
      "  0.200000003       4.41325130E-04\n",
      "  0.300000012       1.47636665E-03\n",
      "  0.400000006       3.45637114E-03\n",
      "  0.500000000       6.64328877E-03\n",
      "  0.600000024       1.12552457E-02\n",
      "  0.699999988       1.74576249E-02\n",
      "  0.800000012       2.53552198E-02\n",
      "  0.900000036       3.49861123E-02\n",
      "   1.00000000       4.63171192E-02\n"
     ]
    }
   ],
   "source": [
    "program outputdata   \n",
    "implicit none\n",
    "\n",
    "   real, dimension(100) :: x, y  \n",
    "   real, dimension(100) :: p, q\n",
    "   integer :: i  \n",
    "   \n",
    "   ! data  \n",
    "   do i=1,100  \n",
    "      x(i) = i * 0.1 \n",
    "      y(i) = sin(x(i)) * (1-cos(x(i)/3.0))  \n",
    "   end do  \n",
    "   \n",
    "   ! zapis do pliku\n",
    "   open(1, file = 'data1.dat', status = 'new')  \n",
    "   do i=1,100  \n",
    "      write(1,*) x(i), y(i)   \n",
    "   end do  \n",
    "   \n",
    "   close(1) \n",
    "   \n",
    "   ! czytanie z pliku\n",
    "   open (2, file = 'data1.dat', status = 'old')\n",
    "\n",
    "   do i = 1,100  \n",
    "      read(2,*) p(i), q(i)\n",
    "   end do \n",
    "   \n",
    "   close(2)\n",
    "   \n",
    "   do i = 1,10\n",
    "      write(*,*) p(i), q(i)\n",
    "   end do \n",
    "   \n",
    "end program outputdata"
   ]
  },
  {
   "cell_type": "code",
   "execution_count": null,
   "metadata": {},
   "outputs": [],
   "source": []
  }
 ],
 "metadata": {
  "kernelspec": {
   "display_name": "Fortran",
   "language": "Fortran",
   "name": "fortran_spec"
  },
  "language_info": {
   "file_extension": "f90",
   "mimetype": "text/plain",
   "name": "fortran"
  }
 },
 "nbformat": 4,
 "nbformat_minor": 4
}
