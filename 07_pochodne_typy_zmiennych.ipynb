{
 "cells": [
  {
   "cell_type": "markdown",
   "metadata": {},
   "source": [
    "# FORTRAN - pochodne typy zmiennych. Wstęp do programowania obiektowego.\n",
    "https://www.tutorialspoint.com/fortran/fortran_derived_data_types.htm"
   ]
  },
  {
   "cell_type": "markdown",
   "metadata": {},
   "source": [
    "### Struktury o różnych typach"
   ]
  },
  {
   "cell_type": "markdown",
   "metadata": {},
   "source": [
    "W FORTRAN-ie można tworzyć struktury danych, które zawierają zmienne o różnych typach - tzw. pochodne typy zmiennych. Służy do tego komenda `type`, gdzie składnia jest następująca:\n",
    "\n",
    "```fortran\n",
    "type nazwa_typu\n",
    "    deklaracje\n",
    "end type\n",
    "```"
   ]
  },
  {
   "cell_type": "code",
   "execution_count": 16,
   "metadata": {},
   "outputs": [
    {
     "name": "stdout",
     "output_type": "stream",
     "text": [
      " Janina                   Kowalska                       999999          21 Astronomia                T\n",
      " Tomasz                   Nowak                          888888          23 Astrologia                F\n"
     ]
    }
   ],
   "source": [
    "program z_wlasnym_typem\n",
    "implicit none\n",
    "\n",
    "type student\n",
    "    character(25) :: imie\n",
    "    character(25) :: nazwisko\n",
    "    integer       :: nralbumu\n",
    "    integer       :: wiek\n",
    "    character(25) :: kierunek\n",
    "    logical       :: aktywny\n",
    "end type\n",
    "\n",
    "type(student)     :: student_1\n",
    "type(student)     :: student_2\n",
    "\n",
    "student_1%imie = \"Janina\"\n",
    "student_1%nazwisko = \"Kowalska\"\n",
    "student_1%nralbumu = 999999\n",
    "student_1%wiek = 21\n",
    "student_1%kierunek = \"Astronomia\"\n",
    "student_1%aktywny = .TRUE.\n",
    "\n",
    "student_2%imie = \"Tomasz\"\n",
    "student_2%nazwisko = \"Nowak\"\n",
    "student_2%nralbumu = 888888\n",
    "student_2%wiek = 23\n",
    "student_2%kierunek = \"Astrologia\"\n",
    "student_2%aktywny = .FALSE.\n",
    "\n",
    "print*,student_1\n",
    "print*,student_2\n",
    "\n",
    "end program z_wlasnym_typem"
   ]
  },
  {
   "cell_type": "code",
   "execution_count": 21,
   "metadata": {},
   "outputs": [
    {
     "name": "stdout",
     "output_type": "stream",
     "text": [
      " Astronomia               Astrologia               \n"
     ]
    }
   ],
   "source": [
    "program z_wlasnym_typem\n",
    "implicit none\n",
    "\n",
    "type student\n",
    "    character(25) :: imie\n",
    "    character(25) :: nazwisko\n",
    "    integer       :: nralbumu\n",
    "    integer       :: wiek\n",
    "    character(25) :: kierunek\n",
    "    logical       :: aktywny\n",
    "end type\n",
    "\n",
    "type(student), dimension(2)     :: students\n",
    "\n",
    "students(1)%imie = \"Janina\"\n",
    "students(1)%nazwisko = \"Kowalska\"\n",
    "students(1)%nralbumu = 999999\n",
    "students(1)%wiek = 21\n",
    "students(1)%kierunek = \"Astronomia\"\n",
    "students(1)%aktywny = .TRUE.\n",
    "\n",
    "students(2)%imie = \"Jan\"\n",
    "students(2)%nazwisko = \"Kowalski\"\n",
    "students(2)%nralbumu = 888888\n",
    "students(2)%wiek = 23\n",
    "students(2)%kierunek = \"Astrologia\"\n",
    "students(2)%aktywny = .FALSE.\n",
    "\n",
    "print*,students%kierunek\n",
    "\n",
    "end program z_wlasnym_typem"
   ]
  },
  {
   "cell_type": "markdown",
   "metadata": {},
   "source": [
    "Możlwie jest również zadeklarowanie typu w module i późniejsze skorzystanie z niego. Własny typ zmiennej może również korzystać z zadeklarowanej funkcji."
   ]
  },
  {
   "cell_type": "code",
   "execution_count": 69,
   "metadata": {},
   "outputs": [
    {
     "name": "stdout",
     "output_type": "stream",
     "text": [
      " Rozmiar:   0.50000000000000000      Pole koła  0.78539816339744828      Pole kwadratu:   0.25000000000000000     \n"
     ]
    }
   ],
   "source": [
    "module shapes\n",
    "implicit none\n",
    "\n",
    "    type :: circle\n",
    "        real(8) :: radius\n",
    "        contains\n",
    "            procedure :: area => cc_area\n",
    "    end type\n",
    "    \n",
    "    type :: square\n",
    "        real(8) :: side\n",
    "        contains\n",
    "            procedure :: area => sq_area\n",
    "    end type\n",
    "    \n",
    "    real(kind=8) :: pi=3.1415926535897931_8\n",
    "    \n",
    "contains\n",
    "\n",
    "    function cc_area(self)\n",
    "        class(circle) :: self \n",
    "        real(8) :: cc_area\n",
    "        cc_area = pi*self%radius**2\n",
    "    end function\n",
    "\n",
    "    function sq_area(self)\n",
    "        class(square) :: self \n",
    "        real(8) :: sq_area\n",
    "        sq_area = self%side**2\n",
    "    end function\n",
    "\n",
    "end module shapes\n",
    "\n",
    "program main\n",
    "    use shapes\n",
    "    implicit none\n",
    "\n",
    "    type(circle) :: cc\n",
    "    type(square) :: sq\n",
    "    real(8) :: A_cc, A_sq, x\n",
    "    \n",
    "    x = 0.5\n",
    "\n",
    "    cc%radius = x\n",
    "    sq%side   = x\n",
    "    \n",
    "    A_cc = cc%area()\n",
    "    A_sq = sq%area()\n",
    "\n",
    "    print*, \"Rozmiar: \",x, \"Pole koła\", A_cc, \"Pole kwadratu: \", A_sq\n",
    "    \n",
    "end program main"
   ]
  },
  {
   "cell_type": "code",
   "execution_count": 3,
   "metadata": {},
   "outputs": [
    {
     "name": "stdout",
     "output_type": "stream",
     "text": [
      " Koniec pliku\n"
     ]
    }
   ],
   "source": [
    "program jasnosc\n",
    "implicit none\n",
    "\n",
    "real, dimension(:), allocatable :: jd, js, ejs\n",
    "integer :: i, rozmiar, io\n",
    "real :: srednia\n",
    "character(40) :: fmt\n",
    "\n",
    "open(1, file = \"dane.dat\", status=\"old\")\n",
    "    rozmiar = 0\n",
    "    do\n",
    "        read(1, *, IOSTAT=io)\n",
    "        if (io < 0) then\n",
    "            print*,\"Koniec pliku\"\n",
    "            exit\n",
    "        else\n",
    "            rozmiar = rozmiar+1\n",
    "        endif\n",
    "    enddo\n",
    "close(1)\n",
    "\n",
    "allocate(jd(rozmiar))\n",
    "allocate(js(rozmiar))\n",
    "allocate(ejs(rozmiar))\n",
    "\n",
    "open(1, file = \"dane.dat\", status=\"old\")\n",
    "    do i=1,rozmiar\n",
    "        read(1, *)jd(i), js(i), ejs(i)\n",
    "        jd(i) = jd(i) - 2450000.0\n",
    "    enddo\n",
    "close(1)\n",
    "\n",
    "srednia=sum(js)/size(js)\n",
    "js = js - srednia\n",
    "\n",
    "\n",
    "fmt = \"(f10.5, 2f7.3)\"\n",
    "open(2, file = \"nowe_dane.dat\", status=\"new\")\n",
    "\n",
    "do i=1,rozmiar\n",
    "    write(2, fmt)jd(i), js(i), ejs(i)\n",
    "enddo\n",
    "\n",
    "close(2)\n",
    "\n",
    "deallocate(jd)\n",
    "deallocate(js)\n",
    "deallocate(ejs)\n",
    "\n",
    "end program jasnosc"
   ]
  },
  {
   "cell_type": "code",
   "execution_count": null,
   "metadata": {},
   "outputs": [],
   "source": []
  }
 ],
 "metadata": {
  "kernelspec": {
   "display_name": "Fortran",
   "language": "Fortran",
   "name": "fortran_spec"
  },
  "language_info": {
   "file_extension": "f90",
   "mimetype": "text/plain",
   "name": "fortran"
  }
 },
 "nbformat": 4,
 "nbformat_minor": 4
}
