{
 "cells": [
  {
   "cell_type": "markdown",
   "metadata": {},
   "source": [
    "## Zadanie - funkcje"
   ]
  },
  {
   "cell_type": "markdown",
   "metadata": {},
   "source": [
    "Napisz program liczący średnią i odchylenie standardowe wg. wzorów:\n",
    "\n",
    "średnia : $\\bar x = \\sum_{i=1}^{N} \\frac{x_i}{N}$, gdzie N - liczba elemntów\n",
    "odchylenie standardowe: $\\sqrt{\\frac{\\sum(x_i - \\bar x)^2}{N-1}}$\n",
    "\n",
    "Obliczenia średniej i odchylenia standardowego powinny być napisane jako funkcje. Zalążek kodu wygląda tak:"
   ]
  },
  {
   "cell_type": "code",
   "execution_count": null,
   "metadata": {},
   "outputs": [],
   "source": [
    "program funkcje\n",
    "implicit none\n",
    "\n",
    "!deklaracje zmiennych\n",
    "\n",
    "x = (/....../) ! wypelnic tablice dowolnymi liczbami\n",
    "srednia = mean(x)\n",
    "odchylenie = std(x)\n",
    "\n",
    "!wypisac wyliczone statystyki z ładnym formatowaniem\n",
    "\n",
    "end program funkcje\n",
    "\n",
    "function mean(x)\n",
    ".\n",
    ".\n",
    ".\n",
    "end function mean\n",
    "\n",
    "function std(x)\n",
    ".\n",
    ".\n",
    ".\n",
    "end function std"
   ]
  }
 ],
 "metadata": {
  "kernelspec": {
   "display_name": "Fortran",
   "language": "Fortran",
   "name": "fortran_spec"
  },
  "language_info": {
   "file_extension": "f90",
   "mimetype": "text/plain",
   "name": "fortran"
  }
 },
 "nbformat": 4,
 "nbformat_minor": 4
}
