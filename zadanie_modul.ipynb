{
 "cells": [
  {
   "cell_type": "markdown",
   "metadata": {},
   "source": [
    "## Zadanie - funkcje"
   ]
  },
  {
   "cell_type": "markdown",
   "metadata": {},
   "source": [
    "Napisz program liczący czas ($t$) w jakim światło przebędzie odpowiednią odległość ($D$) w próżni. $t=c\\cdot D$\n",
    "\n",
    "Program powinien:\n",
    " - zapytać użytkownika o podanie odległości, gdzie odległość jest podawana w km (program powinien o tym poinformować)\n",
    " - zawierać funkcję liczącą czas\n",
    " - dla tych obiektów: Księżyc, Słońce, Mars - czas powinien się wyświetlić poprzez podanie nazwy obiektu (w zeszycie nr 5 jest podobny przykład, z którego można skorzystać)\n",
    " - wszystkie funkcje i stałe fizyczne muszą być w module\n",
    " - wyliczany czas powinien być podany w odpowiednich jednostkach (sekunda, minuta, godzina, dzień) w zależności od danej wartości, np. Dla Księżyca w sekundach, dla Słońca w minutach."
   ]
  },
  {
   "cell_type": "code",
   "execution_count": null,
   "metadata": {},
   "outputs": [],
   "source": []
  }
 ],
 "metadata": {
  "kernelspec": {
   "display_name": "Fortran",
   "language": "Fortran",
   "name": "fortran_spec"
  },
  "language_info": {
   "file_extension": "f90",
   "mimetype": "text/plain",
   "name": "fortran"
  }
 },
 "nbformat": 4,
 "nbformat_minor": 4
}
