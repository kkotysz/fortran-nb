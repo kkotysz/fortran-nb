{
 "cells": [
  {
   "cell_type": "markdown",
   "metadata": {},
   "source": [
    "## Zadanie - Czytanie/Zapisywanie i pochodny typ zmiennej"
   ]
  },
  {
   "cell_type": "markdown",
   "metadata": {},
   "source": [
    "Napisz program w którym należy:\n",
    "\n",
    "\n",
    " - wczytać z pliku `stars.dat` dane dot. gwiazd\n",
    "     ```\n",
    "     Plik ma następujące kolumny:\n",
    "     Nazwa, Ra [deg], Dec [deg], Masa [M_sun], Promień [R_sun], T_eff [K]\n",
    "     ```\n",
    " - zapisać dane do nowego pliku (z ładnym formatowaniem), ale w zmienionej formie: \n",
    "     - **`Nazwa   :`**`bez zmian`\n",
    "     - **`Ra      :`**`deg -> HH:MM:SS`\n",
    "     - **`Dec     :`**`deg -> DD:MM:SS`\n",
    "     - **`Masa    :`**`M_sun -> kg`\n",
    "     - **`Promień :`**`R_sun  -> km`\n",
    "     - **`T_eff   :`**`bez zmian`\n",
    "     - **`L       :`**`L_sun`\n",
    " - wyliczanie L (moc promieniowania) powinno być funkcją\n",
    " - wszystkie funkcje oraz jakiekolwiek stałe powinny być w module\n"
   ]
  },
  {
   "cell_type": "code",
   "execution_count": null,
   "metadata": {},
   "outputs": [],
   "source": []
  }
 ],
 "metadata": {
  "kernelspec": {
   "display_name": "Fortran",
   "language": "Fortran",
   "name": "fortran_spec"
  },
  "language_info": {
   "file_extension": "f90",
   "mimetype": "text/plain",
   "name": "fortran"
  }
 },
 "nbformat": 4,
 "nbformat_minor": 4
}
